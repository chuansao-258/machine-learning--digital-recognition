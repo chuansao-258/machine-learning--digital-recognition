{
 "cells": [
  {
   "cell_type": "code",
   "execution_count": 1,
   "id": "atlantic-family",
   "metadata": {},
   "outputs": [],
   "source": [
    "from keras.datasets import mnist"
   ]
  },
  {
   "cell_type": "code",
   "execution_count": 2,
   "id": "acquired-crazy",
   "metadata": {},
   "outputs": [
    {
     "name": "stdout",
     "output_type": "stream",
     "text": [
      "10000\n"
     ]
    }
   ],
   "source": [
    "(x_train, y_train), (x_test, y_test) = mnist.load_data()\n",
    "print(len(y_test))"
   ]
  },
  {
   "cell_type": "code",
   "execution_count": 3,
   "id": "after-following",
   "metadata": {},
   "outputs": [],
   "source": [
    "X_train = []\n",
    "for i in range(0,len(y_train)):\n",
    "    X_train.append([])\n",
    "    for m in range(0,len(x_train[0])):\n",
    "        for n in range(0,len(x_train[0][0])):\n",
    "            X_train[i].append(float(x_train[i][m][n])/255)"
   ]
  },
  {
   "cell_type": "code",
   "execution_count": 4,
   "id": "patent-health",
   "metadata": {},
   "outputs": [],
   "source": [
    "X_test = []\n",
    "for i in range(0,len(y_test)):\n",
    "    X_test.append([])\n",
    "    for m in range(0,len(x_test[0])):\n",
    "        for n in range(0,len(x_test[0][0])):\n",
    "            X_test[i].append(float(x_test[i][m][n])/255)"
   ]
  },
  {
   "cell_type": "code",
   "execution_count": 5,
   "id": "isolated-pittsburgh",
   "metadata": {},
   "outputs": [],
   "source": [
    "from sklearn import svm\n",
    "import numpy as np"
   ]
  },
  {
   "cell_type": "code",
   "execution_count": 12,
   "id": "bronze-input",
   "metadata": {},
   "outputs": [
    {
     "name": "stderr",
     "output_type": "stream",
     "text": [
      "C:\\Users\\DiegoZhang\\AppData\\Roaming\\Python\\Python37\\site-packages\\sklearn\\svm\\_base.py:258: ConvergenceWarning: Solver terminated early (max_iter=100).  Consider pre-processing your data with StandardScaler or MinMaxScaler.\n",
      "  % self.max_iter, ConvergenceWarning)\n"
     ]
    }
   ],
   "source": [
    "svc = svm.SVC(kernel='linear',max_iter=100).fit(X_train,y_train)\n"
   ]
  },
  {
   "cell_type": "code",
   "execution_count": 13,
   "id": "bronze-concept",
   "metadata": {},
   "outputs": [],
   "source": [
    "ans_list = svc.predict(X_test)"
   ]
  },
  {
   "cell_type": "code",
   "execution_count": 14,
   "id": "hidden-diesel",
   "metadata": {},
   "outputs": [
    {
     "name": "stdout",
     "output_type": "stream",
     "text": [
      "72.92\n"
     ]
    }
   ],
   "source": [
    "correct = 0\n",
    "for i in range(0,len(ans_list)):\n",
    "    if(ans_list[i]==y_test[i]):\n",
    "        correct = correct+1\n",
    "print(correct/100)"
   ]
  },
  {
   "cell_type": "code",
   "execution_count": null,
   "id": "forward-sherman",
   "metadata": {},
   "outputs": [],
   "source": []
  }
 ],
 "metadata": {
  "kernelspec": {
   "display_name": "Python 3",
   "language": "python",
   "name": "python3"
  },
  "language_info": {
   "codemirror_mode": {
    "name": "ipython",
    "version": 3
   },
   "file_extension": ".py",
   "mimetype": "text/x-python",
   "name": "python",
   "nbconvert_exporter": "python",
   "pygments_lexer": "ipython3",
   "version": "3.7.3"
  }
 },
 "nbformat": 4,
 "nbformat_minor": 5
}
