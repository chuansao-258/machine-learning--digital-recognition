{
 "cells": [
  {
   "cell_type": "code",
   "execution_count": 1,
   "id": "looking-quarterly",
   "metadata": {},
   "outputs": [],
   "source": [
    "from keras.datasets import mnist"
   ]
  },
  {
   "cell_type": "code",
   "execution_count": 2,
   "id": "romance-spoke",
   "metadata": {},
   "outputs": [
    {
     "name": "stdout",
     "output_type": "stream",
     "text": [
      "10000\n"
     ]
    }
   ],
   "source": [
    "(x_train, y_train), (x_test, y_test) = mnist.load_data()\n",
    "print(len(y_test))"
   ]
  },
  {
   "cell_type": "code",
   "execution_count": 3,
   "id": "hired-genealogy",
   "metadata": {},
   "outputs": [],
   "source": [
    "X_train = []\n",
    "for i in range(0,len(y_train)):\n",
    "    X_train.append([])\n",
    "    for m in range(0,len(x_train[0])):\n",
    "        for n in range(0,len(x_train[0][0])):\n",
    "            X_train[i].append(x_train[i][m][n])"
   ]
  },
  {
   "cell_type": "code",
   "execution_count": 4,
   "id": "fleet-regulation",
   "metadata": {},
   "outputs": [],
   "source": [
    "X_test = []\n",
    "for i in range(0,len(y_test)):\n",
    "    X_test.append([])\n",
    "    for m in range(0,len(x_test[0])):\n",
    "        for n in range(0,len(x_test[0][0])):\n",
    "            X_test[i].append(x_test[i][m][n])"
   ]
  },
  {
   "cell_type": "code",
   "execution_count": 5,
   "id": "addressed-swift",
   "metadata": {},
   "outputs": [],
   "source": [
    "import numpy as np\n",
    "from sklearn import datasets\n",
    "from sklearn.linear_model import LogisticRegression\n",
    "from sklearn.model_selection import train_test_split"
   ]
  },
  {
   "cell_type": "code",
   "execution_count": 7,
   "id": "optimum-shield",
   "metadata": {},
   "outputs": [
    {
     "name": "stderr",
     "output_type": "stream",
     "text": [
      "C:\\Users\\DiegoZhang\\AppData\\Roaming\\Python\\Python37\\site-packages\\sklearn\\linear_model\\_sag.py:329: ConvergenceWarning: The max_iter was reached which means the coef_ did not converge\n",
      "  \"the coef_ did not converge\", ConvergenceWarning)\n"
     ]
    }
   ],
   "source": [
    "lr=LogisticRegression(multi_class=\"multinomial\",solver=\"saga\")\n",
    "lr.fit(X_train,y_train)\n",
    "proba_=lr.predict_proba(X_test)"
   ]
  },
  {
   "cell_type": "code",
   "execution_count": 8,
   "id": "herbal-discipline",
   "metadata": {},
   "outputs": [],
   "source": [
    "ans_list=lr.predict(X_test)"
   ]
  },
  {
   "cell_type": "code",
   "execution_count": 9,
   "id": "existing-acceptance",
   "metadata": {},
   "outputs": [
    {
     "name": "stdout",
     "output_type": "stream",
     "text": [
      "0.9257\n"
     ]
    }
   ],
   "source": [
    "correct = 0\n",
    "for i in range(0,len(ans_list)):\n",
    "    if(ans_list[i]==y_test[i]):\n",
    "        correct = correct+1\n",
    "print(correct/len(y_test))"
   ]
  },
  {
   "cell_type": "code",
   "execution_count": null,
   "id": "insured-replacement",
   "metadata": {},
   "outputs": [],
   "source": []
  }
 ],
 "metadata": {
  "kernelspec": {
   "display_name": "Python 3",
   "language": "python",
   "name": "python3"
  },
  "language_info": {
   "codemirror_mode": {
    "name": "ipython",
    "version": 3
   },
   "file_extension": ".py",
   "mimetype": "text/x-python",
   "name": "python",
   "nbconvert_exporter": "python",
   "pygments_lexer": "ipython3",
   "version": "3.7.3"
  }
 },
 "nbformat": 4,
 "nbformat_minor": 5
}
